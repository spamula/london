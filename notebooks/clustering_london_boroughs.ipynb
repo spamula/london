{
 "cells": [
  {
   "cell_type": "markdown",
   "metadata": {},
   "source": [
    "### Clustering London Boroughs by Ethnic Makeup"
   ]
  },
  {
   "cell_type": "code",
   "execution_count": 210,
   "metadata": {},
   "outputs": [],
   "source": [
    "# IMPORT DATA\n",
    "import pandas as pd\n",
    "from sklearn.cluster import KMeans, MeanShift, DBSCAN\n",
    "import matplotlib.pyplot as plt\n",
    "import numpy as np\n",
    "%matplotlib inline\n",
    "pd.options.display.max_colwidth = 1000"
   ]
  },
  {
   "cell_type": "code",
   "execution_count": 211,
   "metadata": {},
   "outputs": [],
   "source": [
    "# LOAD DATA\n",
    "boroughs = pd.read_excel('../data/raw/ethnic-groups-by-borough.xls', sheet_name=['2012', '2013', '2014', '2015',\n",
    "                                                                                '2016', '2017'])"
   ]
  },
  {
   "cell_type": "code",
   "execution_count": 212,
   "metadata": {},
   "outputs": [],
   "source": [
    "# FIX COLUMNS\n",
    "borough_columns = ['area', 'white', 'asian', 'black', 'mixed_other', 'total']"
   ]
  },
  {
   "cell_type": "code",
   "execution_count": 213,
   "metadata": {},
   "outputs": [],
   "source": [
    "# CREATE FULL DATAFRAME OF ALL BOROUGHS BY YEAR\n",
    "london_boroughs = pd.DataFrame(columns=borough_columns)\n",
    "for x in boroughs:\n",
    "    temp_df = boroughs[x].iloc[3:35, 1:7]\n",
    "    temp_df.columns = borough_columns\n",
    "    temp_df['year'] = int(x)\n",
    "    london_boroughs = pd.concat([temp_df, london_boroughs], axis=0).reset_index(drop=True)"
   ]
  },
  {
   "cell_type": "code",
   "execution_count": 214,
   "metadata": {},
   "outputs": [
    {
     "data": {
      "text/plain": [
       "2015.0    32\n",
       "2014.0    32\n",
       "2013.0    32\n",
       "2012.0    32\n",
       "2016.0    32\n",
       "2017.0    32\n",
       "Name: year, dtype: int64"
      ]
     },
     "execution_count": 214,
     "metadata": {},
     "output_type": "execute_result"
    }
   ],
   "source": [
    "# WHICH YEARS ARE WE USING?\n",
    "london_boroughs['year'].value_counts()"
   ]
  },
  {
   "cell_type": "code",
   "execution_count": 215,
   "metadata": {},
   "outputs": [],
   "source": [
    "# VISUALIZE DATAFRAME AFTER CREATION - FIX DATA ISSUES WITH DASHES ETC.\n",
    "london_bor_unlabeled = london_boroughs.apply(lambda x: (x.replace('-', 0)))"
   ]
  },
  {
   "cell_type": "code",
   "execution_count": 216,
   "metadata": {},
   "outputs": [],
   "source": [
    "# SET UP A TIME SERIES SPLITS\n",
    "cluster_holdout = london_bor_unlabeled[london_bor_unlabeled.year >= 2016]\n",
    "cluster_training = london_bor_unlabeled[london_bor_unlabeled.year < 2016]"
   ]
  },
  {
   "cell_type": "code",
   "execution_count": 217,
   "metadata": {},
   "outputs": [],
   "source": [
    "# SET UP GROUPBY DICTIONARY\n",
    "groupby_dict = {'area': 'unique',\n",
    "'white': 'mean',\n",
    "'black': 'mean',\n",
    "'mixed_other': 'mean',\n",
    "'asian': 'mean'}"
   ]
  },
  {
   "cell_type": "code",
   "execution_count": 220,
   "metadata": {},
   "outputs": [
    {
     "name": "stderr",
     "output_type": "stream",
     "text": [
      "/anaconda3/lib/python3.6/site-packages/ipykernel_launcher.py:3: SettingWithCopyWarning: \n",
      "A value is trying to be set on a copy of a slice from a DataFrame.\n",
      "Try using .loc[row_indexer,col_indexer] = value instead\n",
      "\n",
      "See the caveats in the documentation: http://pandas.pydata.org/pandas-docs/stable/indexing.html#indexing-view-versus-copy\n",
      "  This is separate from the ipykernel package so we can avoid doing imports until\n"
     ]
    },
    {
     "data": {
      "text/html": [
       "<div>\n",
       "<style scoped>\n",
       "    .dataframe tbody tr th:only-of-type {\n",
       "        vertical-align: middle;\n",
       "    }\n",
       "\n",
       "    .dataframe tbody tr th {\n",
       "        vertical-align: top;\n",
       "    }\n",
       "\n",
       "    .dataframe thead th {\n",
       "        text-align: right;\n",
       "    }\n",
       "</style>\n",
       "<table border=\"1\" class=\"dataframe\">\n",
       "  <thead>\n",
       "    <tr style=\"text-align: right;\">\n",
       "      <th></th>\n",
       "      <th>area</th>\n",
       "      <th>white</th>\n",
       "      <th>black</th>\n",
       "      <th>mixed_other</th>\n",
       "      <th>asian</th>\n",
       "    </tr>\n",
       "    <tr>\n",
       "      <th>cluster</th>\n",
       "      <th></th>\n",
       "      <th></th>\n",
       "      <th></th>\n",
       "      <th></th>\n",
       "      <th></th>\n",
       "    </tr>\n",
       "  </thead>\n",
       "  <tbody>\n",
       "    <tr>\n",
       "      <th>0</th>\n",
       "      <td>[Bromley, Enfield, Lambeth, Wandsworth]</td>\n",
       "      <td>224250.000000</td>\n",
       "      <td>41562.500000</td>\n",
       "      <td>23062.500000</td>\n",
       "      <td>24500.000000</td>\n",
       "    </tr>\n",
       "    <tr>\n",
       "      <th>1</th>\n",
       "      <td>[Greenwich, Hackney, Haringey, Hillingdon, Lewisham, Southwark, Waltham Forest]</td>\n",
       "      <td>157518.518519</td>\n",
       "      <td>50851.851852</td>\n",
       "      <td>27370.370370</td>\n",
       "      <td>36888.888889</td>\n",
       "    </tr>\n",
       "    <tr>\n",
       "      <th>2</th>\n",
       "      <td>[Harrow, Hounslow, Redbridge, Tower Hamlets, Hillingdon]</td>\n",
       "      <td>119588.235294</td>\n",
       "      <td>17235.294118</td>\n",
       "      <td>22235.294118</td>\n",
       "      <td>108058.823529</td>\n",
       "    </tr>\n",
       "    <tr>\n",
       "      <th>3</th>\n",
       "      <td>[Camden, Islington, Merton, Richmond upon Thames, Sutton, Westminster]</td>\n",
       "      <td>144208.333333</td>\n",
       "      <td>15541.666667</td>\n",
       "      <td>24375.000000</td>\n",
       "      <td>24541.666667</td>\n",
       "    </tr>\n",
       "    <tr>\n",
       "      <th>4</th>\n",
       "      <td>[Barnet, Croydon, Ealing]</td>\n",
       "      <td>213000.000000</td>\n",
       "      <td>41636.363636</td>\n",
       "      <td>37909.090909</td>\n",
       "      <td>68181.818182</td>\n",
       "    </tr>\n",
       "    <tr>\n",
       "      <th>5</th>\n",
       "      <td>[Bexley, Havering]</td>\n",
       "      <td>201125.000000</td>\n",
       "      <td>18375.000000</td>\n",
       "      <td>7625.000000</td>\n",
       "      <td>10750.000000</td>\n",
       "    </tr>\n",
       "    <tr>\n",
       "      <th>6</th>\n",
       "      <td>[Barking and Dagenham, Hammersmith and Fulham, Kensington and Chelsea, Kingston upon Thames]</td>\n",
       "      <td>112937.500000</td>\n",
       "      <td>20687.500000</td>\n",
       "      <td>17812.500000</td>\n",
       "      <td>20500.000000</td>\n",
       "    </tr>\n",
       "    <tr>\n",
       "      <th>7</th>\n",
       "      <td>[Brent, Newham, Ealing]</td>\n",
       "      <td>103777.777778</td>\n",
       "      <td>50777.777778</td>\n",
       "      <td>45666.666667</td>\n",
       "      <td>121777.777778</td>\n",
       "    </tr>\n",
       "  </tbody>\n",
       "</table>\n",
       "</div>"
      ],
      "text/plain": [
       "                                                                                                 area          white         black   mixed_other          asian\n",
       "cluster                                                                                                                                                        \n",
       "0                                                             [Bromley, Enfield, Lambeth, Wandsworth]  224250.000000  41562.500000  23062.500000   24500.000000\n",
       "1                     [Greenwich, Hackney, Haringey, Hillingdon, Lewisham, Southwark, Waltham Forest]  157518.518519  50851.851852  27370.370370   36888.888889\n",
       "2                                            [Harrow, Hounslow, Redbridge, Tower Hamlets, Hillingdon]  119588.235294  17235.294118  22235.294118  108058.823529\n",
       "3                              [Camden, Islington, Merton, Richmond upon Thames, Sutton, Westminster]  144208.333333  15541.666667  24375.000000   24541.666667\n",
       "4                                                                           [Barnet, Croydon, Ealing]  213000.000000  41636.363636  37909.090909   68181.818182\n",
       "5                                                                                  [Bexley, Havering]  201125.000000  18375.000000   7625.000000   10750.000000\n",
       "6        [Barking and Dagenham, Hammersmith and Fulham, Kensington and Chelsea, Kingston upon Thames]  112937.500000  20687.500000  17812.500000   20500.000000\n",
       "7                                                                             [Brent, Newham, Ealing]  103777.777778  50777.777778  45666.666667  121777.777778"
      ]
     },
     "execution_count": 220,
     "metadata": {},
     "output_type": "execute_result"
    }
   ],
   "source": [
    "# TRY KMEANS CLUSTERING WITH DEFAULT K OF 8 CLUSTERS\n",
    "kmeans = KMeans()\n",
    "cluster_training['cluster'] = kmeans.fit_predict(cluster_training.drop(['area','year'], axis=1))\n",
    "cluster_training.groupby('cluster').agg(groupby_dict)"
   ]
  },
  {
   "cell_type": "code",
   "execution_count": 221,
   "metadata": {},
   "outputs": [
    {
     "name": "stderr",
     "output_type": "stream",
     "text": [
      "/anaconda3/lib/python3.6/site-packages/ipykernel_launcher.py:2: SettingWithCopyWarning: \n",
      "A value is trying to be set on a copy of a slice from a DataFrame.\n",
      "Try using .loc[row_indexer,col_indexer] = value instead\n",
      "\n",
      "See the caveats in the documentation: http://pandas.pydata.org/pandas-docs/stable/indexing.html#indexing-view-versus-copy\n",
      "  \n"
     ]
    },
    {
     "data": {
      "text/html": [
       "<div>\n",
       "<style scoped>\n",
       "    .dataframe tbody tr th:only-of-type {\n",
       "        vertical-align: middle;\n",
       "    }\n",
       "\n",
       "    .dataframe tbody tr th {\n",
       "        vertical-align: top;\n",
       "    }\n",
       "\n",
       "    .dataframe thead th {\n",
       "        text-align: right;\n",
       "    }\n",
       "</style>\n",
       "<table border=\"1\" class=\"dataframe\">\n",
       "  <thead>\n",
       "    <tr style=\"text-align: right;\">\n",
       "      <th></th>\n",
       "      <th>area</th>\n",
       "      <th>white</th>\n",
       "      <th>black</th>\n",
       "      <th>mixed_other</th>\n",
       "      <th>asian</th>\n",
       "    </tr>\n",
       "    <tr>\n",
       "      <th>cluster</th>\n",
       "      <th></th>\n",
       "      <th></th>\n",
       "      <th></th>\n",
       "      <th></th>\n",
       "      <th></th>\n",
       "    </tr>\n",
       "  </thead>\n",
       "  <tbody>\n",
       "    <tr>\n",
       "      <th>0</th>\n",
       "      <td>[Bromley, Enfield, Lambeth, Lewisham, Southwark, Wandsworth]</td>\n",
       "      <td>216818.181818</td>\n",
       "      <td>48727.272727</td>\n",
       "      <td>28000.000000</td>\n",
       "      <td>26272.727273</td>\n",
       "    </tr>\n",
       "    <tr>\n",
       "      <th>1</th>\n",
       "      <td>[Camden, Greenwich, Hackney, Haringey, Waltham Forest, Hillingdon, Southwark]</td>\n",
       "      <td>164818.181818</td>\n",
       "      <td>44363.636364</td>\n",
       "      <td>34181.818182</td>\n",
       "      <td>35363.636364</td>\n",
       "    </tr>\n",
       "    <tr>\n",
       "      <th>2</th>\n",
       "      <td>[Harrow, Hillingdon, Hounslow, Redbridge, Tower Hamlets]</td>\n",
       "      <td>127142.857143</td>\n",
       "      <td>19142.857143</td>\n",
       "      <td>23000.000000</td>\n",
       "      <td>110571.428571</td>\n",
       "    </tr>\n",
       "    <tr>\n",
       "      <th>3</th>\n",
       "      <td>[Islington, Merton, Richmond upon Thames, Sutton, Westminster, Camden]</td>\n",
       "      <td>145454.545455</td>\n",
       "      <td>17727.272727</td>\n",
       "      <td>28727.272727</td>\n",
       "      <td>26000.000000</td>\n",
       "    </tr>\n",
       "    <tr>\n",
       "      <th>4</th>\n",
       "      <td>[Barnet, Croydon]</td>\n",
       "      <td>231000.000000</td>\n",
       "      <td>42750.000000</td>\n",
       "      <td>40250.000000</td>\n",
       "      <td>70000.000000</td>\n",
       "    </tr>\n",
       "    <tr>\n",
       "      <th>5</th>\n",
       "      <td>[Bexley, Havering]</td>\n",
       "      <td>205750.000000</td>\n",
       "      <td>19250.000000</td>\n",
       "      <td>8500.000000</td>\n",
       "      <td>14750.000000</td>\n",
       "    </tr>\n",
       "    <tr>\n",
       "      <th>6</th>\n",
       "      <td>[Barking and Dagenham, Hammersmith and Fulham, Kensington and Chelsea, Kingston upon Thames]</td>\n",
       "      <td>113000.000000</td>\n",
       "      <td>22750.000000</td>\n",
       "      <td>18000.000000</td>\n",
       "      <td>25250.000000</td>\n",
       "    </tr>\n",
       "    <tr>\n",
       "      <th>7</th>\n",
       "      <td>[Brent, Ealing, Newham, Redbridge, Tower Hamlets]</td>\n",
       "      <td>127250.000000</td>\n",
       "      <td>39375.000000</td>\n",
       "      <td>36375.000000</td>\n",
       "      <td>126625.000000</td>\n",
       "    </tr>\n",
       "  </tbody>\n",
       "</table>\n",
       "</div>"
      ],
      "text/plain": [
       "                                                                                                 area          white         black   mixed_other          asian\n",
       "cluster                                                                                                                                                        \n",
       "0                                        [Bromley, Enfield, Lambeth, Lewisham, Southwark, Wandsworth]  216818.181818  48727.272727  28000.000000   26272.727273\n",
       "1                       [Camden, Greenwich, Hackney, Haringey, Waltham Forest, Hillingdon, Southwark]  164818.181818  44363.636364  34181.818182   35363.636364\n",
       "2                                            [Harrow, Hillingdon, Hounslow, Redbridge, Tower Hamlets]  127142.857143  19142.857143  23000.000000  110571.428571\n",
       "3                              [Islington, Merton, Richmond upon Thames, Sutton, Westminster, Camden]  145454.545455  17727.272727  28727.272727   26000.000000\n",
       "4                                                                                   [Barnet, Croydon]  231000.000000  42750.000000  40250.000000   70000.000000\n",
       "5                                                                                  [Bexley, Havering]  205750.000000  19250.000000   8500.000000   14750.000000\n",
       "6        [Barking and Dagenham, Hammersmith and Fulham, Kensington and Chelsea, Kingston upon Thames]  113000.000000  22750.000000  18000.000000   25250.000000\n",
       "7                                                   [Brent, Ealing, Newham, Redbridge, Tower Hamlets]  127250.000000  39375.000000  36375.000000  126625.000000"
      ]
     },
     "execution_count": 221,
     "metadata": {},
     "output_type": "execute_result"
    }
   ],
   "source": [
    "# PREDICTING ON OUR HOLD-OUT SET\n",
    "cluster_holdout['cluster'] = kmeans.predict(cluster_holdout.drop(['area', 'year'], axis=1))\n",
    "cluster_holdout.groupby('cluster').agg(groupby_dict)"
   ]
  },
  {
   "cell_type": "code",
   "execution_count": 222,
   "metadata": {},
   "outputs": [
    {
     "ename": "ImportError",
     "evalue": "dlopen(/anaconda3/lib/python3.6/site-packages/rpy2/rinterface/_rinterface.cpython-36m-darwin.so, 2): Library not loaded: /Library/Frameworks/R.framework/Versions/3.5/Resources/lib/libR.dylib\n  Referenced from: /anaconda3/lib/python3.6/site-packages/rpy2/rinterface/_rinterface.cpython-36m-darwin.so\n  Reason: Incompatible library version: _rinterface.cpython-36m-darwin.so requires version 3.5.0 or later, but libR.dylib provides version 3.4.0",
     "output_type": "error",
     "traceback": [
      "\u001b[0;31m---------------------------------------------------------------------------\u001b[0m",
      "\u001b[0;31mImportError\u001b[0m                               Traceback (most recent call last)",
      "\u001b[0;32m<ipython-input-222-c3899fdb2536>\u001b[0m in \u001b[0;36m<module>\u001b[0;34m()\u001b[0m\n\u001b[0;32m----> 1\u001b[0;31m \u001b[0;32mimport\u001b[0m \u001b[0mrpy2\u001b[0m\u001b[0;34m.\u001b[0m\u001b[0mrobjects\u001b[0m \u001b[0;32mas\u001b[0m \u001b[0mrobjects\u001b[0m\u001b[0;34m\u001b[0m\u001b[0m\n\u001b[0m\u001b[1;32m      2\u001b[0m \u001b[0;32mfrom\u001b[0m \u001b[0mrpy2\u001b[0m\u001b[0;34m.\u001b[0m\u001b[0mrobjects\u001b[0m\u001b[0;34m.\u001b[0m\u001b[0mpackages\u001b[0m \u001b[0;32mimport\u001b[0m \u001b[0mimportr\u001b[0m\u001b[0;34m\u001b[0m\u001b[0m\n",
      "\u001b[0;32m/anaconda3/lib/python3.6/site-packages/rpy2/robjects/__init__.py\u001b[0m in \u001b[0;36m<module>\u001b[0;34m()\u001b[0m\n\u001b[1;32m     14\u001b[0m \u001b[0;32mimport\u001b[0m \u001b[0mitertools\u001b[0m\u001b[0;34m\u001b[0m\u001b[0m\n\u001b[1;32m     15\u001b[0m \u001b[0;32mfrom\u001b[0m \u001b[0mdatetime\u001b[0m \u001b[0;32mimport\u001b[0m \u001b[0mdatetime\u001b[0m\u001b[0;34m\u001b[0m\u001b[0m\n\u001b[0;32m---> 16\u001b[0;31m \u001b[0;32mimport\u001b[0m \u001b[0mrpy2\u001b[0m\u001b[0;34m.\u001b[0m\u001b[0mrinterface\u001b[0m \u001b[0;32mas\u001b[0m \u001b[0mrinterface\u001b[0m\u001b[0;34m\u001b[0m\u001b[0m\n\u001b[0m\u001b[1;32m     17\u001b[0m \u001b[0;32mimport\u001b[0m \u001b[0mrpy2\u001b[0m\u001b[0;34m.\u001b[0m\u001b[0mrlike\u001b[0m\u001b[0;34m.\u001b[0m\u001b[0mcontainer\u001b[0m \u001b[0;32mas\u001b[0m \u001b[0mrlc\u001b[0m\u001b[0;34m\u001b[0m\u001b[0m\n\u001b[1;32m     18\u001b[0m \u001b[0;34m\u001b[0m\u001b[0m\n",
      "\u001b[0;32m/anaconda3/lib/python3.6/site-packages/rpy2/rinterface/__init__.py\u001b[0m in \u001b[0;36m<module>\u001b[0;34m()\u001b[0m\n\u001b[1;32m     49\u001b[0m \u001b[0;32mdel\u001b[0m\u001b[0;34m(\u001b[0m\u001b[0mos\u001b[0m\u001b[0;34m)\u001b[0m\u001b[0;34m\u001b[0m\u001b[0m\n\u001b[1;32m     50\u001b[0m \u001b[0;34m\u001b[0m\u001b[0m\n\u001b[0;32m---> 51\u001b[0;31m from rpy2.rinterface._rinterface import (baseenv,\n\u001b[0m\u001b[1;32m     52\u001b[0m                                          \u001b[0memptyenv\u001b[0m\u001b[0;34m,\u001b[0m\u001b[0;34m\u001b[0m\u001b[0m\n\u001b[1;32m     53\u001b[0m                                          \u001b[0mendr\u001b[0m\u001b[0;34m,\u001b[0m\u001b[0;34m\u001b[0m\u001b[0m\n",
      "\u001b[0;31mImportError\u001b[0m: dlopen(/anaconda3/lib/python3.6/site-packages/rpy2/rinterface/_rinterface.cpython-36m-darwin.so, 2): Library not loaded: /Library/Frameworks/R.framework/Versions/3.5/Resources/lib/libR.dylib\n  Referenced from: /anaconda3/lib/python3.6/site-packages/rpy2/rinterface/_rinterface.cpython-36m-darwin.so\n  Reason: Incompatible library version: _rinterface.cpython-36m-darwin.so requires version 3.5.0 or later, but libR.dylib provides version 3.4.0"
     ]
    }
   ],
   "source": [
    "import rpy2.robjects as robjects\n",
    "from rpy2.robjects.packages import importr"
   ]
  },
  {
   "cell_type": "code",
   "execution_count": null,
   "metadata": {},
   "outputs": [],
   "source": []
  }
 ],
 "metadata": {
  "kernelspec": {
   "display_name": "Python 3",
   "language": "python",
   "name": "python3"
  },
  "language_info": {
   "codemirror_mode": {
    "name": "ipython",
    "version": 3
   },
   "file_extension": ".py",
   "mimetype": "text/x-python",
   "name": "python",
   "nbconvert_exporter": "python",
   "pygments_lexer": "ipython3",
   "version": "3.6.4"
  }
 },
 "nbformat": 4,
 "nbformat_minor": 2
}
